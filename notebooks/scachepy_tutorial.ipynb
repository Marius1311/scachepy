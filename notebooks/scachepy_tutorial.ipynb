{
 "cells": [
  {
   "cell_type": "markdown",
   "metadata": {},
   "source": [
    "# Scachepy - caching extension for Scanpy"
   ]
  },
  {
   "cell_type": "markdown",
   "metadata": {},
   "source": [
    "This notebook shows the usage of Scachepy - a caching extension for Scanpy. What is does is basically pickles the result of an operation that takes too long to compute (or is required to be reproducible).\n",
    "\n",
    "Please **beware** that this version is self-proclaimed beta version and that tests are being **slowly** written just now."
   ]
  },
  {
   "cell_type": "code",
   "execution_count": 1,
   "metadata": {},
   "outputs": [],
   "source": [
    "%load_ext autoreload\n",
    "%autoreload 2"
   ]
  },
  {
   "cell_type": "code",
   "execution_count": 2,
   "metadata": {},
   "outputs": [
    {
     "name": "stderr",
     "output_type": "stream",
     "text": [
      "/home/michal/.local/miniconda3/envs/reprog/lib/python3.6/site-packages/sklearn/externals/joblib/__init__.py:15: DeprecationWarning: sklearn.externals.joblib is deprecated in 0.21 and will be removed in 0.23. Please import this functionality directly from joblib, which can be installed with: pip install joblib. If this warning is raised when loading pickled models, you may need to re-serialize those models with scikit-learn 0.21+.\n",
      "  warnings.warn(msg, category=DeprecationWarning)\n"
     ]
    }
   ],
   "source": [
    "import scanpy as sc\n",
    "import scvelo as scv\n",
    "import scachepy \n",
    "import tempfile"
   ]
  },
  {
   "cell_type": "markdown",
   "metadata": {},
   "source": [
    "# Data loading and cache creation"
   ]
  },
  {
   "cell_type": "code",
   "execution_count": 3,
   "metadata": {},
   "outputs": [
    {
     "data": {
      "text/plain": [
       "Cache(backend=PickleBackend(dir='/tmp/tmp8q7net25'), ext='.pickle')"
      ]
     },
     "execution_count": 3,
     "metadata": {},
     "output_type": "execute_result"
    }
   ],
   "source": [
    "handle = tempfile.TemporaryDirectory()\n",
    "c = scachepy.Cache(handle.name, backend='pickle')\n",
    "c"
   ]
  },
  {
   "cell_type": "markdown",
   "metadata": {},
   "source": [
    "Currently, only `pickle` backend is implemented. To change the backend directory, do the following:\n",
    "\n",
    "```python\n",
    "c.backend.dir = ...\n",
    "```"
   ]
  },
  {
   "cell_type": "code",
   "execution_count": 4,
   "metadata": {},
   "outputs": [],
   "source": [
    "!rm -rf $c.backend.dir/*"
   ]
  },
  {
   "cell_type": "code",
   "execution_count": 5,
   "metadata": {},
   "outputs": [
    {
     "name": "stdout",
     "output_type": "stream",
     "text": [
      "WARNING: In Scanpy 0.*, this returned logarithmized data. Now it returns non-logarithmized data.\n"
     ]
    },
    {
     "name": "stderr",
     "output_type": "stream",
     "text": [
      "... storing 'paul15_clusters' as categorical\n"
     ]
    }
   ],
   "source": [
    "adata = sc.datasets.paul15()\n",
    "adata.var_names_make_unique()"
   ]
  },
  {
   "cell_type": "markdown",
   "metadata": {},
   "source": [
    "# Usage principles"
   ]
  },
  {
   "cell_type": "code",
   "execution_count": 6,
   "metadata": {},
   "outputs": [
    {
     "name": "stdout",
     "output_type": "stream",
     "text": [
      "No cache found, computing values.\n"
     ]
    }
   ],
   "source": [
    "c.pp.pca(adata)"
   ]
  },
  {
   "cell_type": "code",
   "execution_count": 7,
   "metadata": {},
   "outputs": [
    {
     "name": "stdout",
     "output_type": "stream",
     "text": [
      "Loading data from: `pca.pickle`.\n",
      "Warning: `adata.obsm` already contains key: `X_pca`.\n",
      "Warning: `adata.varm` already contains key: `PCs`.\n",
      "Warning: `adata.uns[pca]` already contains key: `variance_ratio`.\n",
      "Warning: `adata.uns[pca]` already contains key: `variance`.\n"
     ]
    }
   ],
   "source": [
    "c.pp.pca(adata, force=False, verbose=True)"
   ]
  },
  {
   "cell_type": "markdown",
   "metadata": {},
   "source": [
    "Difference between the `c.pp.pca` and `c.pp.pcarr` is that the former operates on `anndata.AnnData`, whereas the latter takes `np.ndarray` and caches only the `X_pca` attribute of `obsm`."
   ]
  },
  {
   "cell_type": "code",
   "execution_count": 8,
   "metadata": {},
   "outputs": [
    {
     "name": "stdout",
     "output_type": "stream",
     "text": [
      "No cache found, computing values.\n"
     ]
    },
    {
     "data": {
      "text/plain": [
       "(2730, 50)"
      ]
     },
     "execution_count": 8,
     "metadata": {},
     "output_type": "execute_result"
    }
   ],
   "source": [
    "_ = c.pp.pcarr(adata.X)\n",
    "_.shape"
   ]
  },
  {
   "cell_type": "markdown",
   "metadata": {},
   "source": [
    "## Extra arguments"
   ]
  },
  {
   "cell_type": "markdown",
   "metadata": {},
   "source": [
    "Each functions has some useful arguments:\n",
    "+ `verbose=...` - be verbose (default: `True`)\n",
    "+ `fname=...` - overrides the default filename\n",
    "+ `force=...` - whether to force recaching (default: `False`)"
   ]
  },
  {
   "cell_type": "code",
   "execution_count": 9,
   "metadata": {},
   "outputs": [],
   "source": [
    "c.pp.neighbors(adata, force=True, fname='foo', verbose=False)"
   ]
  },
  {
   "cell_type": "markdown",
   "metadata": {},
   "source": [
    "We also need to specify the used `fname` to load it back again."
   ]
  },
  {
   "cell_type": "code",
   "execution_count": 10,
   "metadata": {},
   "outputs": [
    {
     "name": "stdout",
     "output_type": "stream",
     "text": [
      "Loading data from: `foo.pickle`.\n",
      "Warning: `adata.uns` already contains key: `neighbors`.\n"
     ]
    }
   ],
   "source": [
    "c.pp.neighbors(adata, fname='foo')"
   ]
  },
  {
   "cell_type": "markdown",
   "metadata": {},
   "source": [
    "## Copy argument"
   ]
  },
  {
   "cell_type": "markdown",
   "metadata": {},
   "source": [
    "These functions also work with `copy=True`, where applicable."
   ]
  },
  {
   "cell_type": "code",
   "execution_count": 11,
   "metadata": {},
   "outputs": [],
   "source": [
    "assert 'louvain' not in adata.uns"
   ]
  },
  {
   "cell_type": "code",
   "execution_count": 12,
   "metadata": {},
   "outputs": [
    {
     "name": "stdout",
     "output_type": "stream",
     "text": [
      "No cache found, computing values.\n"
     ]
    }
   ],
   "source": [
    "adata_louvain = c.tl.louvain(adata, copy=True)"
   ]
  },
  {
   "cell_type": "code",
   "execution_count": 13,
   "metadata": {},
   "outputs": [],
   "source": [
    "assert 'louvain' not in adata.uns\n",
    "assert 'louvain' in adata_louvain.uns"
   ]
  },
  {
   "cell_type": "markdown",
   "metadata": {},
   "source": [
    "## Default functions"
   ]
  },
  {
   "cell_type": "markdown",
   "metadata": {},
   "source": [
    "Caching functions usually cache the values based on their default function (and the keys specified). However, they can be used more flexibly, such as using a custom function (note that this example is just a demonstration):"
   ]
  },
  {
   "cell_type": "code",
   "execution_count": 14,
   "metadata": {},
   "outputs": [],
   "source": [
    "def test(*args, **kwargs):\n",
    "    print('Look Ma, no hands!')\n",
    "    return sc.pp.log1p(args[0])"
   ]
  },
  {
   "cell_type": "markdown",
   "metadata": {},
   "source": [
    "By default, `c.pp.expression` has no default function, but we can easily change that (the function needs to be supplied as the first argument, even before the `adata` object)."
   ]
  },
  {
   "cell_type": "code",
   "execution_count": 15,
   "metadata": {},
   "outputs": [
    {
     "data": {
      "text/plain": [
       "array([[0., 0., 0., ..., 0., 2., 0.],\n",
       "       [0., 0., 1., ..., 0., 1., 0.],\n",
       "       [1., 0., 3., ..., 2., 3., 0.],\n",
       "       ...,\n",
       "       [0., 0., 1., ..., 0., 0., 0.],\n",
       "       [3., 0., 3., ..., 0., 1., 0.],\n",
       "       [0., 0., 4., ..., 1., 1., 1.]], dtype=float32)"
      ]
     },
     "execution_count": 15,
     "metadata": {},
     "output_type": "execute_result"
    }
   ],
   "source": [
    "adata.X"
   ]
  },
  {
   "cell_type": "code",
   "execution_count": 16,
   "metadata": {},
   "outputs": [
    {
     "name": "stdout",
     "output_type": "stream",
     "text": [
      "Forced computing values.\n",
      "Look Ma, no hands!\n"
     ]
    }
   ],
   "source": [
    "c.pp.expression(test, adata, force=True, fname='test')"
   ]
  },
  {
   "cell_type": "code",
   "execution_count": 17,
   "metadata": {},
   "outputs": [
    {
     "name": "stdout",
     "output_type": "stream",
     "text": [
      "Loading data from: `test.pickle`.\n",
      "Warning: `adata.X` already exists.\n"
     ]
    }
   ],
   "source": [
    "c.pp.expression(adata, fname='test')"
   ]
  },
  {
   "cell_type": "markdown",
   "metadata": {},
   "source": [
    "The values have changed as expected. `anndata.Anndata` objects is either the first one in `args` or under key `adata` in `kwargs`."
   ]
  },
  {
   "cell_type": "code",
   "execution_count": 18,
   "metadata": {},
   "outputs": [
    {
     "data": {
      "text/plain": [
       "array([[0.       , 0.       , 0.       , ..., 0.       , 1.0986123,\n",
       "        0.       ],\n",
       "       [0.       , 0.       , 0.6931472, ..., 0.       , 0.6931472,\n",
       "        0.       ],\n",
       "       [0.6931472, 0.       , 1.3862944, ..., 1.0986123, 1.3862944,\n",
       "        0.       ],\n",
       "       ...,\n",
       "       [0.       , 0.       , 0.6931472, ..., 0.       , 0.       ,\n",
       "        0.       ],\n",
       "       [1.3862944, 0.       , 1.3862944, ..., 0.       , 0.6931472,\n",
       "        0.       ],\n",
       "       [0.       , 0.       , 1.609438 , ..., 0.6931472, 0.6931472,\n",
       "        0.6931472]], dtype=float32)"
      ]
     },
     "execution_count": 18,
     "metadata": {},
     "output_type": "execute_result"
    }
   ],
   "source": [
    "adata.X"
   ]
  },
  {
   "cell_type": "code",
   "execution_count": 19,
   "metadata": {},
   "outputs": [
    {
     "name": "stdout",
     "output_type": "stream",
     "text": [
      "foo.pickle  louvain.pickle  pca_arr.pickle  pca.pickle\ttest.pickle\r\n"
     ]
    }
   ],
   "source": [
    "!ls $c.backend.dir"
   ]
  },
  {
   "cell_type": "markdown",
   "metadata": {},
   "source": [
    "# Implemented caching functions"
   ]
  },
  {
   "cell_type": "markdown",
   "metadata": {},
   "source": [
    "Here are all the functions which have caching version implemented. Future improvements will mostly likely be adding the default docstrings, and simplifying logic/refactoring the code and possibly adding support for `.h5ad` as storage backend."
   ]
  },
  {
   "cell_type": "code",
   "execution_count": 20,
   "metadata": {},
   "outputs": [
    {
     "data": {
      "text/plain": [
       "pp(pcarr=<caching function of \"scanpy.preprocessing._simple.pca\">, expression=<caching function of \"scachepy.scachepy.<lambda>\">, moments=<caching function of \"scvelo.preprocessing.moments.moments\">, pca=<caching function of \"scanpy.preprocessing._simple.pca\">, neighbors=<caching function of \"scanpy.neighbors.neighbors\">)"
      ]
     },
     "execution_count": 20,
     "metadata": {},
     "output_type": "execute_result"
    }
   ],
   "source": [
    "c.pp"
   ]
  },
  {
   "cell_type": "code",
   "execution_count": 21,
   "metadata": {},
   "outputs": [
    {
     "data": {
      "text/plain": [
       "tl(louvain=<caching function of \"scanpy.tools._louvain.louvain\">, umap=<caching function of \"scanpy.tools._umap.umap\">, diffmap=<caching function of \"scanpy.tools._diffmap.diffmap\">, paga=<caching function of \"scanpy.tools._paga.paga\">, velocity=<caching function of \"scvelo.tools.velocity.velocity\">, velocity_graph=<caching function of \"scvelo.tools.velocity_graph.velocity_graph\">, draw_graph=<caching function of \"scanpy.tools._draw_graph.draw_graph\">)"
      ]
     },
     "execution_count": 21,
     "metadata": {},
     "output_type": "execute_result"
    }
   ],
   "source": [
    "c.tl"
   ]
  },
  {
   "cell_type": "code",
   "execution_count": 22,
   "metadata": {},
   "outputs": [
    {
     "data": {
      "text/plain": [
       "pl()"
      ]
     },
     "execution_count": 22,
     "metadata": {},
     "output_type": "execute_result"
    }
   ],
   "source": [
    "c.pl"
   ]
  },
  {
   "cell_type": "markdown",
   "metadata": {},
   "source": [
    "## Creating caching functions"
   ]
  },
  {
   "cell_type": "markdown",
   "metadata": {},
   "source": [
    "Creating new functions is relatively simple, as seen below. Note that `_cache1` is only present because `dict` needs to have unique keys, it gets stripped down down the line (it can be specified in other ways too, but this is the most convenient one)."
   ]
  },
  {
   "cell_type": "code",
   "execution_count": 23,
   "metadata": {},
   "outputs": [
    {
     "data": {
      "text/plain": [
       "<caching function of \"scvelo.preprocessing.moments.moments\">"
      ]
     },
     "execution_count": 23,
     "metadata": {},
     "output_type": "execute_result"
    }
   ],
   "source": [
    "c.foo = c.cache(dict(uns='pca',                                                                                                                                                                                      \n",
    "                     uns_cache1='neighbors',                                                                                                                                                                         \n",
    "                     obsm='X_pca',                                                                                                                                                                                   \n",
    "                     varm='PCs',                                                                                                                                                                                     \n",
    "                     layers='Ms',                                                                                                                                                                                    \n",
    "                     layers_cache1='Mu'),                                                                                                                                                                            \n",
    "                default_fn=scv.pp.moments,                                                                                                                                                                           \n",
    "                default_fname='moments')\n",
    "c.foo"
   ]
  }
 ],
 "metadata": {
  "kernelspec": {
   "display_name": "Python 3",
   "language": "python",
   "name": "python3"
  },
  "language_info": {
   "codemirror_mode": {
    "name": "ipython",
    "version": 3
   },
   "file_extension": ".py",
   "mimetype": "text/x-python",
   "name": "python",
   "nbconvert_exporter": "python",
   "pygments_lexer": "ipython3",
   "version": "3.6.8"
  }
 },
 "nbformat": 4,
 "nbformat_minor": 2
}
