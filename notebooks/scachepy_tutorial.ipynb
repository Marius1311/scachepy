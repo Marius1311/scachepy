{
 "cells": [
  {
   "cell_type": "markdown",
   "metadata": {},
   "source": [
    "# Scachepy - caching extension for Scanpy"
   ]
  },
  {
   "cell_type": "markdown",
   "metadata": {},
   "source": [
    "This notebook shows the usage of Scachepy - a caching extension for Scanpy. What is does is basically pickles the result of an operation that takes too long to compute (or is required to be reproducible)."
   ]
  },
  {
   "cell_type": "code",
   "execution_count": 1,
   "metadata": {},
   "outputs": [],
   "source": [
    "%load_ext autoreload\n",
    "%autoreload 2"
   ]
  },
  {
   "cell_type": "code",
   "execution_count": 2,
   "metadata": {},
   "outputs": [],
   "source": [
    "import scanpy as sc\n",
    "import scvelo as scv\n",
    "import scachepy \n",
    "import tempfile"
   ]
  },
  {
   "cell_type": "markdown",
   "metadata": {},
   "source": [
    "# Data loading and cache creation"
   ]
  },
  {
   "cell_type": "code",
   "execution_count": 3,
   "metadata": {},
   "outputs": [
    {
     "data": {
      "text/plain": [
       "Cache(root=/tmp/tmpzhupqmxd, ext='.pickle')"
      ]
     },
     "execution_count": 3,
     "metadata": {},
     "output_type": "execute_result"
    }
   ],
   "source": [
    "handle = tempfile.TemporaryDirectory()\n",
    "c = scachepy.Cache(handle.name, backend='pickle', separate_dirs=True)\n",
    "c"
   ]
  },
  {
   "cell_type": "code",
   "execution_count": 4,
   "metadata": {},
   "outputs": [
    {
     "name": "stdout",
     "output_type": "stream",
     "text": [
      "WARNING: In Scanpy 0.*, this returned logarithmized data. Now it returns non-logarithmized data.\n"
     ]
    },
    {
     "name": "stderr",
     "output_type": "stream",
     "text": [
      "... storing 'paul15_clusters' as categorical\n",
      "Trying to set attribute `.uns` of view, making a copy.\n"
     ]
    }
   ],
   "source": [
    "adata = sc.datasets.paul15()\n",
    "adata.var_names_make_unique()"
   ]
  },
  {
   "cell_type": "markdown",
   "metadata": {},
   "source": [
    "# Usage principles"
   ]
  },
  {
   "cell_type": "code",
   "execution_count": 5,
   "metadata": {},
   "outputs": [
    {
     "name": "stdout",
     "output_type": "stream",
     "text": [
      "No cache found in `pca.pickle`, computing values.\n"
     ]
    }
   ],
   "source": [
    "c.pp.pca(adata, force=False, verbose=True)"
   ]
  },
  {
   "cell_type": "markdown",
   "metadata": {},
   "source": [
    "Difference between the `c.pp.pca` and `c.pp.pcarr` is that the former operates on `anndata.AnnData`, whereas the latter takes `np.ndarray` and caches only the `X_pca` attribute of `obsm`."
   ]
  },
  {
   "cell_type": "code",
   "execution_count": 6,
   "metadata": {},
   "outputs": [
    {
     "name": "stdout",
     "output_type": "stream",
     "text": [
      "No cache found in `pca_arr.pickle`, computing values.\n"
     ]
    },
    {
     "data": {
      "text/plain": [
       "(2730, 50)"
      ]
     },
     "execution_count": 6,
     "metadata": {},
     "output_type": "execute_result"
    }
   ],
   "source": [
    "_ = c.pp.pcarr(adata.X)\n",
    "_.shape"
   ]
  },
  {
   "cell_type": "markdown",
   "metadata": {},
   "source": [
    "## Extra arguments"
   ]
  },
  {
   "cell_type": "markdown",
   "metadata": {},
   "source": [
    "Each functions has some useful arguments:\n",
    "+ `verbose=...` - be verbose (default: `True`)\n",
    "+ `fname=...` - overrides the default filename\n",
    "+ `force=...` - whether to force recaching (default: `False`)"
   ]
  },
  {
   "cell_type": "code",
   "execution_count": 7,
   "metadata": {},
   "outputs": [],
   "source": [
    "c.pp.neighbors(adata, force=True, fname='foo', verbose=False)"
   ]
  },
  {
   "cell_type": "markdown",
   "metadata": {},
   "source": [
    "We also need to specify the used `fname` to load it back again."
   ]
  },
  {
   "cell_type": "code",
   "execution_count": 8,
   "metadata": {},
   "outputs": [
    {
     "name": "stdout",
     "output_type": "stream",
     "text": [
      "Loading data from: `foo.pickle`.\n",
      "Warning: `adata.uns` already contains key: `neighbors`.\n"
     ]
    }
   ],
   "source": [
    "c.pp.neighbors(adata, fname='foo')"
   ]
  },
  {
   "cell_type": "markdown",
   "metadata": {},
   "source": [
    "## Copy argument"
   ]
  },
  {
   "cell_type": "markdown",
   "metadata": {},
   "source": [
    "These functions also work with `copy=True`, where applicable."
   ]
  },
  {
   "cell_type": "code",
   "execution_count": 9,
   "metadata": {},
   "outputs": [],
   "source": [
    "assert 'louvain' not in adata.uns"
   ]
  },
  {
   "cell_type": "code",
   "execution_count": 10,
   "metadata": {},
   "outputs": [
    {
     "name": "stdout",
     "output_type": "stream",
     "text": [
      "No cache found in `louvain.pickle`, computing values.\n"
     ]
    }
   ],
   "source": [
    "adata_louvain = c.tl.louvain(adata, copy=True)"
   ]
  },
  {
   "cell_type": "code",
   "execution_count": 11,
   "metadata": {},
   "outputs": [],
   "source": [
    "assert 'louvain' not in adata.uns\n",
    "assert 'louvain' in adata_louvain.uns"
   ]
  },
  {
   "cell_type": "markdown",
   "metadata": {},
   "source": [
    "## Default functions"
   ]
  },
  {
   "cell_type": "markdown",
   "metadata": {},
   "source": [
    "Caching functions usually cache the values based on their default function (and the keys specified). However, they can be used more flexibly, such as using a custom function (note that this example is just a demonstration):"
   ]
  },
  {
   "cell_type": "code",
   "execution_count": 12,
   "metadata": {},
   "outputs": [],
   "source": [
    "def test(*args, **kwargs):\n",
    "    print('Look Ma, no hands!')\n",
    "    return sc.pp.log1p(args[0])"
   ]
  },
  {
   "cell_type": "markdown",
   "metadata": {},
   "source": [
    "By default, `c.pp.expression` has no default function, but we can easily change that (the function needs to be supplied as the first argument, even before the `adata` object)."
   ]
  },
  {
   "cell_type": "code",
   "execution_count": 13,
   "metadata": {},
   "outputs": [
    {
     "data": {
      "text/plain": [
       "array([[0., 0., 0., ..., 0., 2., 0.],\n",
       "       [0., 0., 1., ..., 0., 1., 0.],\n",
       "       [1., 0., 3., ..., 2., 3., 0.],\n",
       "       ...,\n",
       "       [0., 0., 1., ..., 0., 0., 0.],\n",
       "       [3., 0., 3., ..., 0., 1., 0.],\n",
       "       [0., 0., 4., ..., 1., 1., 1.]], dtype=float32)"
      ]
     },
     "execution_count": 13,
     "metadata": {},
     "output_type": "execute_result"
    }
   ],
   "source": [
    "adata.X"
   ]
  },
  {
   "cell_type": "code",
   "execution_count": 14,
   "metadata": {},
   "outputs": [
    {
     "name": "stdout",
     "output_type": "stream",
     "text": [
      "Computing values (forced).\n",
      "Look Ma, no hands!\n"
     ]
    }
   ],
   "source": [
    "c.pp.expression(test, adata, force=True, fname='test')"
   ]
  },
  {
   "cell_type": "code",
   "execution_count": 15,
   "metadata": {},
   "outputs": [
    {
     "name": "stdout",
     "output_type": "stream",
     "text": [
      "Loading data from: `test.pickle`.\n",
      "Warning: `adata.X` already exists.\n"
     ]
    }
   ],
   "source": [
    "c.pp.expression(adata, fname='test')"
   ]
  },
  {
   "cell_type": "markdown",
   "metadata": {},
   "source": [
    "The values have changed as expected. `anndata.Anndata` objects is either the first one in `args` or under key `adata` in `kwargs`."
   ]
  },
  {
   "cell_type": "code",
   "execution_count": 16,
   "metadata": {},
   "outputs": [
    {
     "data": {
      "text/plain": [
       "array([[0.       , 0.       , 0.       , ..., 0.       , 1.0986123,\n",
       "        0.       ],\n",
       "       [0.       , 0.       , 0.6931472, ..., 0.       , 0.6931472,\n",
       "        0.       ],\n",
       "       [0.6931472, 0.       , 1.3862944, ..., 1.0986123, 1.3862944,\n",
       "        0.       ],\n",
       "       ...,\n",
       "       [0.       , 0.       , 0.6931472, ..., 0.       , 0.       ,\n",
       "        0.       ],\n",
       "       [1.3862944, 0.       , 1.3862944, ..., 0.       , 0.6931472,\n",
       "        0.       ],\n",
       "       [0.       , 0.       , 1.609438 , ..., 0.6931472, 0.6931472,\n",
       "        0.6931472]], dtype=float32)"
      ]
     },
     "execution_count": 16,
     "metadata": {},
     "output_type": "execute_result"
    }
   ],
   "source": [
    "adata.X"
   ]
  },
  {
   "cell_type": "code",
   "execution_count": 17,
   "metadata": {},
   "outputs": [
    {
     "name": "stdout",
     "output_type": "stream",
     "text": [
      "ls: cannot access '.backend.dir': No such file or directory\r\n"
     ]
    }
   ],
   "source": [
    "!ls $c.backend.dir"
   ]
  },
  {
   "cell_type": "markdown",
   "metadata": {},
   "source": [
    "# Implemented caching functions"
   ]
  },
  {
   "cell_type": "markdown",
   "metadata": {},
   "source": [
    "Here are all the functions which have caching version implemented. Future improvements will mostly likely be adding the default docstrings, and simplifying logic/refactoring the code and possibly adding support for `.h5ad` as storage backend."
   ]
  },
  {
   "cell_type": "code",
   "execution_count": 18,
   "metadata": {},
   "outputs": [
    {
     "data": {
      "text/plain": [
       "['pcarr', 'expression', 'moments', 'pca', 'neighbors']"
      ]
     },
     "execution_count": 18,
     "metadata": {},
     "output_type": "execute_result"
    }
   ],
   "source": [
    "list(c.pp)"
   ]
  },
  {
   "cell_type": "code",
   "execution_count": 19,
   "metadata": {},
   "outputs": [
    {
     "data": {
      "text/plain": [
       "['louvain',\n",
       " 'tsne',\n",
       " 'umap',\n",
       " 'diffmap',\n",
       " 'paga',\n",
       " 'velocity',\n",
       " 'velocity_graph',\n",
       " 'velocity_embedding',\n",
       " 'draw_graph']"
      ]
     },
     "execution_count": 19,
     "metadata": {},
     "output_type": "execute_result"
    }
   ],
   "source": [
    "list(c.tl)"
   ]
  },
  {
   "cell_type": "code",
   "execution_count": 20,
   "metadata": {},
   "outputs": [
    {
     "name": "stdout",
     "output_type": "stream",
     "text": [
      "No cache found in `pca_plot.pickle`, computing values.\n"
     ]
    },
    {
     "data": {
      "image/png": "[encoded data removed]",
      "text/plain": [
       "<Figure size 432x288 with 1 Axes>"
      ]
     },
     "metadata": {},
     "output_type": "display_data"
    }
   ],
   "source": [
    "c.pl.pca(adata)"
   ]
  },
  {
   "cell_type": "code",
   "execution_count": 21,
   "metadata": {},
   "outputs": [
    {
     "data": {
      "text/plain": [
       "['clustermap',\n",
       " 'correlation_matrix',\n",
       " 'dendrogram',\n",
       " 'diffmap',\n",
       " 'dotplot',\n",
       " 'dpt_groups_pseudotime',\n",
       " 'dpt_timeseries',\n",
       " 'draw_graph',\n",
       " 'embedding_density',\n",
       " 'filter_genes_dispersion',\n",
       " 'heatmap',\n",
       " 'highest_expr_genes',\n",
       " 'highly_variable_genes',\n",
       " 'matrix',\n",
       " 'matrixplot',\n",
       " 'paga',\n",
       " 'paga_adjacency',\n",
       " 'paga_compare',\n",
       " 'paga_path',\n",
       " 'pca',\n",
       " 'pca_loadings',\n",
       " 'pca_variance_ratio',\n",
       " 'rank_genes_groups',\n",
       " 'rank_genes_groups_dotplot',\n",
       " 'rank_genes_groups_heatmap',\n",
       " 'rank_genes_groups_matrixplot',\n",
       " 'rank_genes_groups_stacked_violin',\n",
       " 'rank_genes_groups_tracksplot',\n",
       " 'rank_genes_groups_violin',\n",
       " 'scatter',\n",
       " 'sim',\n",
       " 'stacked_violin',\n",
       " 'tracksplot',\n",
       " 'tsne',\n",
       " 'umap',\n",
       " 'violin']"
      ]
     },
     "execution_count": 21,
     "metadata": {},
     "output_type": "execute_result"
    }
   ],
   "source": [
    "list(c.pl)"
   ]
  },
  {
   "cell_type": "markdown",
   "metadata": {},
   "source": [
    "## Creating caching functions"
   ]
  },
  {
   "cell_type": "markdown",
   "metadata": {},
   "source": [
    "Creating new functions is relatively simple, as seen below. Note that `_cache1` is only present because `dict` needs to have unique keys, it gets stripped down down the line (it can be specified in other ways too, but this is the most convenient one)."
   ]
  },
  {
   "cell_type": "code",
   "execution_count": 22,
   "metadata": {},
   "outputs": [
    {
     "data": {
      "text/plain": [
       "<caching function of \"scvelo.preprocessing.moments.moments\">"
      ]
     },
     "execution_count": 22,
     "metadata": {},
     "output_type": "execute_result"
    }
   ],
   "source": [
    "c.pp.foo = c.pp.cache(dict(uns='pca',                                                                                                                                                                                      \n",
    "                     uns_cache1='neighbors',                                                                                                                                                                         \n",
    "                     obsm='X_pca',                                                                                                                                                                                   \n",
    "                     varm='PCs',                                                                                                                                                                                     \n",
    "                     layers='Ms',                                                                                                                                                                                    \n",
    "                     layers_cache1='Mu'),                                                                                                                                                                            \n",
    "                default_fn=scv.pp.moments,\n",
    "                default_fname='moments')\n",
    "c.pp.foo"
   ]
  },
  {
   "cell_type": "code",
   "execution_count": 23,
   "metadata": {},
   "outputs": [
    {
     "name": "stdout",
     "output_type": "stream",
     "text": [
      "Help on FunctionWrapper in module scachepy.utils:\n",
      "\n",
      "moments(...)\n",
      "    Computes moments for velocity estimation.\n",
      "    \n",
      "    Arguments\n",
      "    ---------\n",
      "    data: :class:`~anndata.AnnData`\n",
      "        Annotated data matrix.\n",
      "    n_neighbors: `int` (default: 30)\n",
      "        Number of neighbors to use.\n",
      "    n_pcs: `int` (default: None)\n",
      "        Number of principal components to use.\n",
      "        If not specified, the full space is used of a pre-computed PCA,\n",
      "        or 30 components are used when PCA is computed internally.\n",
      "    mode: `'connectivities'` or `'distances'`  (default: `'connectivities'`)\n",
      "        Distance metric to use for moment computation.\n",
      "    method : {{'umap', 'gauss', 'hnsw', 'sklearn', `None`}}  (default: `'umap'`)\n",
      "        Use 'umap' [McInnes18]_ or 'gauss' (Gauss kernel following [Coifman05]_\n",
      "        with adaptive width [Haghverdi16]_) for computing connectivities.\n",
      "    use_rep : `None`, `'X'` or any key for `.obsm` (default: None)\n",
      "        Use the indicated representation. If `None`, the representation is chosen automatically:\n",
      "        for .n_vars < 50, .X is used, otherwise ‘X_pca’ is used.\n",
      "    copy: `bool` (default: `False`)\n",
      "        Return a copy instead of writing to adata.\n",
      "    \n",
      "    Returns\n",
      "    -------\n",
      "    Returns or updates `adata` with the attributes\n",
      "    Ms: `.layers`\n",
      "        dense matrix with first order moments of spliced counts.\n",
      "    Mu: `.layers`\n",
      "        dense matrix with first order moments of unspliced counts.\n",
      "    \n",
      "    \n",
      "    Caching function arguments.\n",
      "    \n",
      "    Arguments\n",
      "    ---------\n",
      "    fname: Str, optional (default: `None`)\n",
      "        filename under the cache directory where to load/save the results\n",
      "        if `None`, use `default_fname`\n",
      "    force: Bool, optional (default: `False`)\n",
      "        whether to force the computation even if the cache exists\n",
      "        if `True`, will override when `call=False`\n",
      "    call: Bool, optional (default: `True`)\n",
      "        whether to call the callback prior to actual caching\n",
      "    skip: Bool, optional (default: `False`)\n",
      "        whether to skip keys which are not found during caching\n",
      "    verbose: Bool, optional (default: `True`)\n",
      "        whether to print additional information\n",
      "\n"
     ]
    }
   ],
   "source": [
    "help(c.pp.foo)"
   ]
  },
  {
   "cell_type": "code",
   "execution_count": 24,
   "metadata": {},
   "outputs": [
    {
     "name": "stdout",
     "output_type": "stream",
     "text": [
      "Deleting 4 files from `pp`.\n"
     ]
    }
   ],
   "source": [
    "c.pp.clear()"
   ]
  },
  {
   "cell_type": "code",
   "execution_count": 25,
   "metadata": {},
   "outputs": [
    {
     "name": "stdout",
     "output_type": "stream",
     "text": [
      "Deleting 0 files from `pp`.\n",
      "--------\n",
      "Deleting 1 files from `tl`.\n",
      "Deleting `louvain.pickle`.\n",
      "--------\n",
      "Deleting 1 files from `pl`.\n",
      "Deleting `pca_plot.pickle`.\n"
     ]
    }
   ],
   "source": [
    "c.clear(verbose=2)"
   ]
  }
 ],
 "metadata": {
  "kernelspec": {
   "display_name": "reprog",
   "language": "python",
   "name": "reprog"
  },
  "language_info": {
   "codemirror_mode": {
    "name": "ipython",
    "version": 3
   },
   "file_extension": ".py",
   "mimetype": "text/x-python",
   "name": "python",
   "nbconvert_exporter": "python",
   "pygments_lexer": "ipython3",
   "version": "3.6.8"
  }
 },
 "nbformat": 4,
 "nbformat_minor": 2
}
